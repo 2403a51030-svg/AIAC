{
  "nbformat": 4,
  "nbformat_minor": 0,
  "metadata": {
    "colab": {
      "provenance": [],
      "authorship_tag": "ABX9TyPG4nCiHaN4IFZ/ZWDhmPBK",
      "include_colab_link": true
    },
    "kernelspec": {
      "name": "python3",
      "display_name": "Python 3"
    },
    "language_info": {
      "name": "python"
    }
  },
  "cells": [
    {
      "cell_type": "markdown",
      "metadata": {
        "id": "view-in-github",
        "colab_type": "text"
      },
      "source": [
        "<a href=\"https://colab.research.google.com/github/2403a51030-svg/AIAC/blob/main/LAB_4_3.ipynb\" target=\"_parent\"><img src=\"https://colab.research.google.com/assets/colab-badge.svg\" alt=\"Open In Colab\"/></a>"
      ]
    },
    {
      "cell_type": "markdown",
      "source": [
        "TASK 1 PROMPT:Write a python code to generate a function to check given input is leap year and with no example provided the input should given by user."
      ],
      "metadata": {
        "id": "ssI1NxbF_spx"
      }
    },
    {
      "cell_type": "code",
      "metadata": {
        "colab": {
          "base_uri": "https://localhost:8080/"
        },
        "id": "e155ab0d",
        "outputId": "d6a047bb-9a7f-4eea-d40f-4d7e6d857eaf"
      },
      "source": [
        "def is_leap_year(year):\n",
        "  \"\"\"Checks if a given year is a leap year.\"\"\"\n",
        "  return (year % 4 == 0 and year % 100 != 0) or (year % 400 == 0)\n",
        "\n",
        "# Get input from the user\n",
        "try:\n",
        "  year_input = int(input(\"Enter a year: \"))\n",
        "  if is_leap_year(year_input):\n",
        "    print(f\"{year_input} is a leap year.\")\n",
        "  else:\n",
        "    print(f\"{year_input} is not a leap year.\")\n",
        "except ValueError:\n",
        "  print(\"Invalid input. Please enter a valid year.\")"
      ],
      "execution_count": null,
      "outputs": [
        {
          "output_type": "stream",
          "name": "stdout",
          "text": [
            "Enter a year: 2024\n",
            "2024 is a leap year.\n"
          ]
        }
      ]
    },
    {
      "cell_type": "markdown",
      "source": [
        "Certainly! The selected code defines a function called is_leap_year that checks if a given year is a leap year based on the standard rules. It then prompts the user to enter a year, converts the input to an integer, and uses the is_leap_year function to determine and print whether the entered year is a leap year or not. The code also includes error handling to catch cases where the user enters invalid input that cannot be converted to an integer.\n",
        "\n",
        "What can I help you build?\n",
        "0 / 2000\n",
        "Gemini can make mistakes so double-check it and use code with caution. Learn more"
      ],
      "metadata": {
        "id": "oC3a1MLHAdqX"
      }
    },
    {
      "cell_type": "markdown",
      "source": [
        "TASK 2 PROMPT: PROMPT: WRITE A PYTHON CODE TO GENERATE AN INPUT OUTPUT\n",
        "EXAMPLE TO CONVERT CENTIMETERS TO INCHES.\n"
      ],
      "metadata": {
        "id": "YBnLUFxJAfm2"
      }
    },
    {
      "cell_type": "markdown",
      "source": [],
      "metadata": {
        "id": "3CvprRSxAMap"
      }
    },
    {
      "cell_type": "code",
      "metadata": {
        "colab": {
          "base_uri": "https://localhost:8080/"
        },
        "id": "3ecf0e6d",
        "outputId": "abad9020-ab23-444d-c69e-0fdef3610bd4"
      },
      "source": [
        "def cm_to_inches(cm):\n",
        "  \"\"\"Converts centimeters to inches.\"\"\"\n",
        "  inches = cm * 0.393701\n",
        "  return inches\n",
        "\n",
        "# Input from the user\n",
        "centimeters = 10\n",
        "\n",
        "# Convert and display the output\n",
        "inches_output = cm_to_inches(centimeters)\n",
        "print(f\"{centimeters} centimeters is equal to {inches_output:.2f} inches.\")"
      ],
      "execution_count": null,
      "outputs": [
        {
          "output_type": "stream",
          "name": "stdout",
          "text": [
            "10 centimeters is equal to 3.94 inches.\n"
          ]
        }
      ]
    },
    {
      "cell_type": "markdown",
      "source": [
        "Certainly! The selected code defines a function called cm_to_inches that converts a value in centimeters to inches by multiplying it by the conversion factor 0.393701. It then sets a variable centimeters to 10 as an example input. The function is called with this input, and the result is stored in inches_output. Finally, it prints a formatted string showing the original centimeter value and the calculated inch value, rounded to two decimal places.\n",
        "\n"
      ],
      "metadata": {
        "id": "sBRp9IdNAvTa"
      }
    },
    {
      "cell_type": "markdown",
      "source": [
        "TASK -3 PROMPT:WRITE A PYHTON FUCTION TO CONVERT FULLNAME AS LAST\n",
        "FIRST BY PROVIDING TWO EXAMPLES.\n",
        "\n"
      ],
      "metadata": {
        "id": "Zr-yIRyZAzqH"
      }
    },
    {
      "cell_type": "markdown",
      "source": [],
      "metadata": {
        "id": "6Sixv3G2AvP1"
      }
    },
    {
      "cell_type": "code",
      "metadata": {
        "colab": {
          "base_uri": "https://localhost:8080/"
        },
        "id": "c81355b5",
        "outputId": "2e9c9782-cba9-4f74-80f2-cd0a788f0a33"
      },
      "source": [
        "def convert_name_format(fullname):\n",
        "  \"\"\"Converts a full name from \"First Last\" to \"Last, First\" format.\"\"\"\n",
        "  names = fullname.split()\n",
        "  if len(names) >= 2:\n",
        "    # Assuming the last word is the last name and the rest is the first name(s)\n",
        "    last_name = names[-1]\n",
        "    first_names = \" \".join(names[:-1])\n",
        "    return f\"{last_name}, {first_names}\"\n",
        "  else:\n",
        "    return fullname # Return the original name if it doesn't have at least two parts\n",
        "\n",
        "# Example 1\n",
        "name1 = \"John Doe\"\n",
        "converted_name1 = convert_name_format(name1)\n",
        "print(f\"Original: {name1} -> Converted: {converted_name1}\")\n",
        "\n",
        "# Example 2\n",
        "name2 = \"Jane Smith\"\n",
        "converted_name2 = convert_name_format(name2)\n",
        "print(f\"Original: {name2} -> Converted: {converted_name2}\")"
      ],
      "execution_count": null,
      "outputs": [
        {
          "output_type": "stream",
          "name": "stdout",
          "text": [
            "Original: John Doe -> Converted: Doe, John\n",
            "Original: Jane Smith -> Converted: Smith, Jane\n"
          ]
        }
      ]
    },
    {
      "cell_type": "markdown",
      "source": [
        "Absolutely! The selected code defines a Python function called convert_name_format that takes a full name as input (e.g., \"John Doe\") and attempts to convert it to the \"Last, First\" format (e.g., \"Doe, John\").\n",
        "\n",
        "Here's a breakdown of how it works:\n",
        "\n",
        "names = fullname.split(): This line splits the input fullname string into a list of strings based on spaces. So, \"John Doe\" becomes ['John', 'Doe'].\n",
        "if len(names) >= 2:: This checks if the split name has at least two parts (assuming a first and last name).\n",
        "last_name = names[-1]: If there are two or more parts, this line takes the last element of the names list and assigns it to last_name. In the \"John Doe\" example, names[-1] is 'Doe'.\n",
        "first_names = \" \".join(names[:-1]): This line takes all elements of the names list except the last one (names[:-1]) and joins them back together with a space in between. In the \"John Doe\" example, names[:-1] is ['John'], and \" \".join(['John']) results in 'John'.\n",
        "return f\"{last_name}, {first_names}\": This creates a formatted string with the last_name, a comma and a space, and then the first_names.\n",
        "else: return fullname: If the input name has less than two parts (e.g., \"John\"), the function returns the original name without any changes.\n",
        "The code then provides two examples (name1 = \"John Doe\" and name2 = \"Jane Smith\") to demonstrate how the function works and prints the original and converted names.\n",
        "\n"
      ],
      "metadata": {
        "id": "KtjEzfUQBIZM"
      }
    },
    {
      "cell_type": "markdown",
      "source": [
        "TASK 4 PROMPT:\n",
        " WRITE A PYTHON CODE FOR GIVEN INPUT TO COUNT NUMBER OF VOWELS IN A GIVEN STIRING.\n",
        "\n"
      ],
      "metadata": {
        "id": "b_dltHImBJji"
      }
    },
    {
      "cell_type": "markdown",
      "source": [],
      "metadata": {
        "id": "Vgs0DiiQBDMP"
      }
    },
    {
      "cell_type": "code",
      "metadata": {
        "colab": {
          "base_uri": "https://localhost:8080/"
        },
        "id": "26fa91c6",
        "outputId": "37cd00ca-96b2-47a3-a294-2ee82e28e1de"
      },
      "source": [
        "def count_vowels(text):\n",
        "  \"\"\"Counts the number of vowels in a given string.\"\"\"\n",
        "  vowels = \"aeiouAEIOU\"\n",
        "  vowel_count = 0\n",
        "  for char in text:\n",
        "    if char in vowels:\n",
        "      vowel_count += 1\n",
        "  return vowel_count\n",
        "\n",
        "# Get input from the user\n",
        "input_string = input(\"Enter a string: \")\n",
        "\n",
        "# Count vowels and display the result\n",
        "num_vowels = count_vowels(input_string)\n",
        "print(f\"The number of vowels in '{input_string}' is: {num_vowels}\")"
      ],
      "execution_count": null,
      "outputs": [
        {
          "output_type": "stream",
          "name": "stdout",
          "text": [
            "Enter a string: M.LOHITH RAO\n",
            "The number of vowels in 'M.LOHITH RAO' is: 4\n"
          ]
        }
      ]
    },
    {
      "cell_type": "markdown",
      "source": [
        "Certainly! The selected code defines a Python function called count_vowels that takes a string as input and counts the number of vowels within that string.\n",
        "\n",
        "Here's how it works:\n",
        "\n",
        "vowels = \"aeiouAEIOU\": This line defines a string containing all the lowercase and uppercase vowels. This string is used to check if a character is a vowel.\n",
        "vowel_count = 0: This initializes a variable vowel_count to 0. This variable will store the total count of vowels found in the input string.\n",
        "for char in text:: This starts a loop that iterates through each character (char) in the input text string.\n",
        "if char in vowels:: Inside the loop, this checks if the current character char is present in the vowels string. If it is, it means the character is a vowel.\n",
        "vowel_count += 1: If the character is a vowel, this line increments the vowel_count by 1.\n",
        "return vowel_count: After the loop has finished iterating through all the characters in the string, the function returns the final vowel_count.\n",
        "The code then prompts the user to \"Enter a string:\", reads the user's input into the input_string variable, calls the count_vowels function with the user's input, and stores the result in num_vowels. Finally, it prints a formatted string showing the original input string and the calculated number of vowels.\n",
        "\n",
        "What can I help you build?\n",
        "0 / 2000\n",
        "Gemini can make mistakes so double-check it and use code with caution. Learn mor"
      ],
      "metadata": {
        "id": "UFQEJzLeBpex"
      }
    },
    {
      "cell_type": "markdown",
      "source": [
        "TASK-5 PROMPT::Generate  a python code that reads a file and count the number of lines\n",
        "\n"
      ],
      "metadata": {
        "id": "uZuKTyrSBrAG"
      }
    },
    {
      "cell_type": "markdown",
      "source": [],
      "metadata": {
        "id": "jHCtHBpiBgeW"
      }
    },
    {
      "cell_type": "code",
      "metadata": {
        "colab": {
          "base_uri": "https://localhost:8080/"
        },
        "id": "0673baf2",
        "outputId": "fff5740b-527e-4131-e117-7ee93fcae913"
      },
      "source": [
        "def count_lines_in_file(filename):\n",
        "  \"\"\"Reads a file and counts the number of lines.\"\"\"\n",
        "  try:\n",
        "    with open(filename, 'r') as file:\n",
        "      line_count = 0\n",
        "      for line in file:\n",
        "        line_count += 1\n",
        "    return line_count\n",
        "  except FileNotFoundError:\n",
        "    return f\"Error: File '{filename}' not found.\"\n",
        "  except Exception as e:\n",
        "    return f\"An error occurred: {e}\"\n",
        "\n",
        "# Example usage (replace 'your_file.txt' with the actual filename)\n",
        "filename = 'file.txt'\n",
        "num_lines = count_lines_in_file(filename)\n",
        "print(f\"The number of lines in '{filename}' is: {num_lines}\")"
      ],
      "execution_count": null,
      "outputs": [
        {
          "output_type": "stream",
          "name": "stdout",
          "text": [
            "The number of lines in 'lkjhgfd.txt' is: Error: File 'lkjhgfd.txt' not found.\n"
          ]
        }
      ]
    },
    {
      "cell_type": "markdown",
      "source": [
        "Certainly! The selected code defines a Python function called count_lines_in_file that takes a filename as input and counts the number of lines in that file.\n",
        "\n",
        "Here's a breakdown of how it works:\n",
        "\n",
        "def count_lines_in_file(filename):: This defines the function count_lines_in_file that accepts one argument, filename.\n",
        "try:: This starts a try block, which is used for error handling. Code within this block will be executed, and if an error occurs, the code in the corresponding except block will be executed.\n",
        "with open(filename, 'r') as file:: This opens the file specified by filename in read mode ('r'). The with statement ensures that the file is automatically closed even if errors occur. The opened file object is assigned to the variable file.\n",
        "line_count = 0: This initializes a variable line_count to 0. This variable will store the total count of lines in the file.\n",
        "for line in file:: This starts a loop that iterates through each line (line) in the opened file.\n",
        "line_count += 1: Inside the loop, for each line read from the file, this line increments the line_count by 1.\n",
        "return line_count: After the loop has finished reading all lines from the file, the function returns the final line_count.\n",
        "except FileNotFoundError:: This except block catches the FileNotFoundError if the specified filename does not exist.\n",
        "return f\"Error: File '{filename}' not found.\": If a FileNotFoundError occurs, this line returns an error message indicating that the file was not found.\n",
        "except Exception as e:: This is a general except block that catches any other type of exception that might occur during file processing. The exception object is assigned to the variable e.\n",
        "return f\"An error occurred: {e}\": If any other exception occurs, this line returns a generic error message including the details of the exception (e).\n",
        "The code then provides an example usage where it sets a filename variable (initially 'your_file.txt'), calls the count_lines_in_file function with this filename, and prints the result. The example usage currently shows an error because 'lkjhgfd.txt' (which was used in the execution) was not found.\n",
        "\n"
      ],
      "metadata": {
        "id": "0M9F0LEhCXx6"
      }
    },
    {
      "cell_type": "markdown",
      "source": [],
      "metadata": {
        "id": "I-8IdxFICSet"
      }
    }
  ]
}